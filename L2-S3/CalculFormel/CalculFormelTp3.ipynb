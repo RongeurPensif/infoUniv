{
 "cells": [
  {
   "cell_type": "code",
   "execution_count": null,
   "metadata": {},
   "outputs": [],
   "source": [
    "#exo 1 : c'est la commande solve\n",
    "\n",
    "f(x) = (x/2==3)\n",
    "solve(f(x), x)"
   ]
  },
  {
   "cell_type": "code",
   "execution_count": null,
   "metadata": {},
   "outputs": [],
   "source": [
    "#exo 2\n",
    "#solve([eq1,eq2...,equN],inconnue1, inconnue2,...,inconnueN)\n",
    "reset()\n",
    "var('x','y','z')\n",
    "solve([ ( x + 2*y + 3*z == 0 ) , ( -1*x + 2*y + 2*z == -2 ) , ( 3*x + 4*y + z  == 6 ) ], x ,y ,z)\n",
    "\n",
    "#Equation 3 est une combinaison linéaire de l'équation 1 et 2 , on a un système à 2 éq et 3 inconnues une infinité de solution et 1 paramètre"
   ]
  },
  {
   "cell_type": "code",
   "execution_count": null,
   "metadata": {},
   "outputs": [],
   "source": [
    "def eq(x,y,z,t):\n",
    "    return ('({}*x + {}*y + {}*z == {})'.format(x,y,z,t))\n",
    "\n",
    "def systlin(system):\n",
    "    r = '[' + eq(system[0][0], system[0][1], system[0][2], system[0][3])\n",
    "    for i in system :\n",
    "        if i != system[0]:\n",
    "            r += \", \"\n",
    "            r += eq(i[0],i[1],i[2],i[3])\n",
    "    return (r + \"]\")"
   ]
  },
  {
   "cell_type": "code",
   "execution_count": null,
   "metadata": {},
   "outputs": [],
   "source": [
    "print(\"solve(\"+systlin([[1,2,3,0],[-1,2,2,0],[3,4,1,6]])+\",x,y,z)\")"
   ]
  },
  {
   "cell_type": "code",
   "execution_count": null,
   "metadata": {},
   "outputs": [],
   "source": [
    "#Exo3\n",
    "\n",
    "reset()\n",
    "var('y','s','a','b','c','z')\n",
    "print \"Solutions de y^6==y,y\", solve(y^6==y,y)\n",
    "print \"\\nSolutions de a*z^2+b*z+c = 0 : \"\n",
    "print solve(a*z^2+b*z+c==0,z)\n",
    "\n",
    "print \"\\nS=\", solve ( y^3 == 1, y )\n",
    "\n",
    "#rhs : right hand side\n",
    "print\"\\nPremier élément de S :\", ((solve(y^3 == 1,y))[0]).rhs()\n",
    "\n",
    "y1 = (solve(y^3 == 1,y)[0]).rhs()\n",
    "y2 = (solve(y^3 == 1,y)[1]).rhs()\n",
    "y3 = (solve(y^3 == 1,y)[2]).rhs()\n",
    "print \"\\ny1 =\",y1,\"\\ny2 = \",y2,\"\\ny3 = \",y3\n",
    "\n",
    "print solve(sin(x) + sin(2*x) + sin(3*x) == 0,x)\n",
    "\n",
    "f( x ) = sin ( x ) + sin ( 2 * x ) + sin ( 3 * x ) \n",
    "find_root (f,0,6)\n",
    "find_root (f,0.5,2)\n",
    "find_root (f,2,3)"
   ]
  },
  {
   "cell_type": "code",
   "execution_count": null,
   "metadata": {},
   "outputs": [],
   "source": [
    "#exo4 nb.n() = numerical_approx ( nb )\n",
    "reset ()\n",
    "var('coef1','coef2')\n",
    "s=solve([10.5*coef1+12*coef2==11.4,14.25*coef1+9.5*coef2==11.4], coef1,coef2)\n",
    "s\n",
    "((s[0][0]).rhs()).n()\n"
   ]
  },
  {
   "cell_type": "code",
   "execution_count": 32,
   "metadata": {
    "scrolled": true
   },
   "outputs": [
    {
     "ename": "SyntaxError",
     "evalue": "invalid syntax (<ipython-input-32-987c47474540>, line 27)",
     "output_type": "error",
     "traceback": [
      "\u001b[0;36m  File \u001b[0;32m\"<ipython-input-32-987c47474540>\"\u001b[0;36m, line \u001b[0;32m27\u001b[0m\n\u001b[0;31m    +line([[Integer(8),Integer(0)],[Integer(8),Integer(8)]], color='black')+line([[Integer(0),Integer(0)],[Integer(0),Integer(8)],color=\"purple\"])\u001b[0m\n\u001b[0m                                                                                                                                       ^\u001b[0m\n\u001b[0;31mSyntaxError\u001b[0m\u001b[0;31m:\u001b[0m invalid syntax\n"
     ]
    }
   ],
   "source": [
    "#Exo 5\n",
    "#line([(0,0), (1,1)])\n",
    "reset()\n",
    "var('y')\n",
    "x+2*y >= 4\n",
    "5*x-7*x<=10\n",
    "1/4*x-y >=-5\n",
    "\n",
    "S = [\n",
    "    (x+2*y<=4),\n",
    "    (5*x-7*y<=10),\n",
    "    (1/4*x-y >=-5),\n",
    "    (x<=8),\n",
    "    (x>=0),\n",
    "    (y>=0)\n",
    "    ]\n",
    "\n",
    "s = [\n",
    "    (y==2-(x/2)),\n",
    "    (y==(5/7)*x-(10/7)),\n",
    "    (y==(1/4)*x+5)\n",
    "    ]\n",
    "plot( 2-x/2, 0, 8, color='red')\n",
    "+plot ( 5/7*x-10/7, 0, 8, color=\"green\")\n",
    "+plot ( 1/4*x+5,0,8 )\n",
    "+plot (0*x,0,8,color='yellow')\n",
    "+line([[8,0],[8,8]], color='black')+line([[0,0],[0,8],color=\"purple\"])\n",
    "#tracer la droite qui correspond à l'égalité\n",
    "print solve(s,y)\n"
   ]
  }
 ],
 "metadata": {
  "kernelspec": {
   "display_name": "SageMath 8.3",
   "language": "",
   "name": "sagemath"
  },
  "language_info": {
   "codemirror_mode": {
    "name": "ipython",
    "version": 2
   },
   "file_extension": ".py",
   "mimetype": "text/x-python",
   "name": "python",
   "nbconvert_exporter": "python",
   "pygments_lexer": "ipython2",
   "version": "2.7.15"
  }
 },
 "nbformat": 4,
 "nbformat_minor": 2
}
