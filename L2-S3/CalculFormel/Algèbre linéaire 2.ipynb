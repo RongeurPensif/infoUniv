{
 "cells": [
  {
   "cell_type": "code",
   "execution_count": 1,
   "metadata": {},
   "outputs": [],
   "source": [
    "#Exo1\n",
    "\n",
    "M=matrix([[-1,2,0],[-2,0,3],[-7,5,8]])\n",
    "M=matrix(3,3,[-1,2,3,-2,0,3,-7,5,8])"
   ]
  },
  {
   "cell_type": "code",
   "execution_count": 2,
   "metadata": {},
   "outputs": [
    {
     "name": "stdout",
     "output_type": "stream",
     "text": [
      "A+B=\n",
      "[ 7  4 13]\n",
      "[15 16 10]\n",
      "[ 6  9 10]\n",
      "\n",
      "B+A=\n",
      "[ 7  4 13]\n",
      "[15 16 10]\n",
      "[ 6  9 10]\n",
      "\n",
      "A-B=\n",
      "[ 1  0  1]\n",
      "[ 1  0  2]\n",
      "[-2 -7  0]\n",
      "\n",
      "B-A=\n",
      "[-1  0 -1]\n",
      "[-1  0 -2]\n",
      "[ 2  7  0]\n",
      "\n",
      "A*B=\n",
      "[ 54  80  67]\n",
      "[104 128 110]\n",
      "[ 33  52  41]\n",
      "\n",
      "B*A=\n",
      "[ 40  28  63]\n",
      "[100  82 117]\n",
      "[ 90  77 101]\n",
      "\n",
      "--------\n",
      "C+D=\n",
      "[ 7  4 13]\n",
      "[15 16 10]\n",
      "[ 6  9 10]\n",
      "\n",
      "D+C=\n",
      "[ 7  4 13]\n",
      "[15 16 10]\n",
      "[ 6  9 10]\n",
      "\n",
      "C-D=\n",
      "[ 1  0  1]\n",
      "[ 1  0  2]\n",
      "[-2 -7  0]\n",
      "\n",
      "D-C=\n",
      "[-1  0 -1]\n",
      "[-1  0 -2]\n",
      "[ 2  7  0]\n",
      "\n",
      "C*D=\n",
      "[ 54  80  67]\n",
      "[104 128 110]\n",
      "[ 33  52  41]\n",
      "\n",
      "D*C=\n",
      "[ 40  28  63]\n",
      "[100  82 117]\n",
      "[ 90  77 101]\n",
      "\n",
      "--------\n",
      "v*A=(26, 21, 34)\n",
      "v*B=(29, 42, 29)\n",
      "\n",
      "--------\n",
      "e1*B=(3, 2, 6)\n",
      "e2*B=(7, 8, 4)\n",
      "e3*B=(4, 8, 5)\n"
     ]
    }
   ],
   "source": [
    "from random import randint\n",
    "#exo2\n",
    "\n",
    "def genMatrice(x,y):\n",
    "    r=\"matrix({},{},[\".format(x,y)\n",
    "    for i in range (x*y):\n",
    "        r+= str ( randint(0,9) )\n",
    "        if i != x*y-1:\n",
    "            r+=\", \"\n",
    "    r+=\"])\"\n",
    "    return r\n",
    "\n",
    "A=matrix(3,3,[4, 2, 7, 8, 8, 6, 2, 1, 5])\n",
    "B=matrix(3,3,[3, 2, 6, 7, 8, 4, 4, 8, 5])\n",
    "print \"A+B=\\n{}\\n\\nB+A=\\n{}\\n\\nA-B=\\n{}\\n\\nB-A=\\n{}\\n\\nA*B=\\n{}\\n\\nB*A=\\n{}\".format(A+B, B+A, A-B, B-A, A*B, B*A)\n",
    "\n",
    "C=matrix(2,3,[5, 9, 2, 9, 4, 2])\n",
    "D=matrix(3,2,[0, 0, 2, 8, 2, 3])\n",
    "print \"\\n--------\\nC+D=\\n{}\\n\\nD+C=\\n{}\\n\\nC-D=\\n{}\\n\\nD-C=\\n{}\\n\\nC*D=\\n{}\\n\\nD*C=\\n{}\".format(A+B, B+A, A-B, B-A, A*B, B*A)\n",
    "\n",
    "v=vector([1,2,3])\n",
    "print \"\\n--------\\nv*A={}\\nv*B={}\".format(v*A, v*B)\n",
    "\n",
    "e1 = vector([1,0,0])\n",
    "e2 = vector([0,1,0])\n",
    "e3 = vector([0,0,1])\n",
    "print \"\\n--------\\ne1*B={}\\ne2*B={}\\ne3*B={}\".format(e1*B,e2*B,e3*B)"
   ]
  },
  {
   "cell_type": "code",
   "execution_count": 3,
   "metadata": {},
   "outputs": [
    {
     "name": "stdout",
     "output_type": "stream",
     "text": [
      "A(2,1)=8\n",
      "A(3,2)=5\n",
      "\n",
      "matrice identité 3x3 =\n",
      "[1 0 0]\n",
      "[0 1 0]\n",
      "[0 0 1]\n",
      "\n",
      "matrice 0 2x3=\n",
      "[0 0 0]\n",
      "[0 0 0]\n"
     ]
    }
   ],
   "source": [
    "#Exo4\n",
    "reset()\n",
    "A = matrix (3,3,[4, 2, 7, 8, 8, 6, 2, 1, 5])\n",
    "print \"A(2,1)={}\\nA(3,2)={}\".format(A[1,0], A[2,2])\n",
    "print \"\\nmatrice identité 3x3 =\\n{}\".format(identity_matrix(3))\n",
    "print \"\\nmatrice 0 2x3=\\n{}\".format(zero_matrix(2,3))"
   ]
  },
  {
   "cell_type": "code",
   "execution_count": 4,
   "metadata": {},
   "outputs": [
    {
     "name": "stdout",
     "output_type": "stream",
     "text": [
      "A=\n",
      "[4 2 7]\n",
      "[8 8 6]\n",
      "[2 1 5]\n",
      "\n",
      "Transposée de A=\n",
      "[4 8 2]\n",
      "[2 8 1]\n",
      "[7 6 5]\n",
      "\n",
      "Determinant de A =\n",
      "24\n",
      "\n",
      "Rang de A=\n",
      "3\n",
      "\n",
      "Inverse de A=\n",
      "[17/12  -1/8 -11/6]\n",
      "[ -7/6   1/4   4/3]\n",
      "[ -1/3     0   2/3]\n"
     ]
    }
   ],
   "source": [
    "#Exo5\n",
    "reset()\n",
    "A = matrix (3,3,[4, 2, 7, 8, 8, 6, 2, 1, 5])\n",
    "print \"A=\\n{}\\n\\nTransposée de A=\\n{}\\n\\nDeterminant de A =\\n{}\\n\\nRang de A=\\n{}\\n\\nInverse de A=\\n{}\".format(A,A.transpose(), A.det(), A.rank(), A^-1)"
   ]
  },
  {
   "cell_type": "code",
   "execution_count": 5,
   "metadata": {},
   "outputs": [
    {
     "name": "stdout",
     "output_type": "stream",
     "text": [
      "(-9/5, 47/10, 1/10)\n",
      "(4/3, 5/3, 0)\n"
     ]
    }
   ],
   "source": [
    "#Exo 6\n",
    "reset()\n",
    "A = matrix(3,3,[2,3,-5,-1,0,2,1,1,1])\n",
    "b = vector([10,2,3]) \n",
    "print A.solve_right(b)\n",
    "\n",
    "B = matrix(3,3,[2,2,2,-1,2,0,1,1,1])\n",
    "b = vector([6,2,3])\n",
    "print B\\b\n",
    "\n",
    "C = matrix(3,3,[2,2,2,-1,2,0,1,1,1])\n",
    "b = vector([10,2,3])\n",
    "#print C.solve_right(b)\n",
    "    #Pas de solution pour C"
   ]
  },
  {
   "cell_type": "code",
   "execution_count": 6,
   "metadata": {},
   "outputs": [
    {
     "ename": "ValueError",
     "evalue": "sequence too short (expected length 6, got 0)",
     "output_type": "error",
     "traceback": [
      "\u001b[0;31m---------------------------------------------------------------------------\u001b[0m",
      "\u001b[0;31mValueError\u001b[0m                                Traceback (most recent call last)",
      "\u001b[0;32m/usr/local/install/sage-8.3/local/lib/python2.7/site-packages/sage/all_cmdline.pyc\u001b[0m in \u001b[0;36m<module>\u001b[0;34m()\u001b[0m\n\u001b[1;32m      1\u001b[0m \u001b[0;31m#Exo 7\u001b[0m\u001b[0;34m\u001b[0m\u001b[0;34m\u001b[0m\u001b[0m\n\u001b[1;32m      2\u001b[0m \u001b[0mreset\u001b[0m \u001b[0;34m(\u001b[0m\u001b[0;34m)\u001b[0m\u001b[0;34m\u001b[0m\u001b[0m\n\u001b[0;32m----> 3\u001b[0;31m \u001b[0mTir1\u001b[0m \u001b[0;34m=\u001b[0m \u001b[0mmatrix\u001b[0m\u001b[0;34m(\u001b[0m\u001b[0mInteger\u001b[0m\u001b[0;34m(\u001b[0m\u001b[0;36m2\u001b[0m\u001b[0;34m)\u001b[0m\u001b[0;34m,\u001b[0m\u001b[0mInteger\u001b[0m\u001b[0;34m(\u001b[0m\u001b[0;36m3\u001b[0m\u001b[0;34m)\u001b[0m\u001b[0;34m,\u001b[0m\u001b[0;34m[\u001b[0m\u001b[0;34m]\u001b[0m\u001b[0;34m)\u001b[0m\u001b[0;34m\u001b[0m\u001b[0m\n\u001b[0m",
      "\u001b[0;32m/usr/local/install/sage-8.3/local/lib/python2.7/site-packages/sage/matrix/constructor.pyx\u001b[0m in \u001b[0;36msage.matrix.constructor.matrix (build/cythonized/sage/matrix/constructor.c:2426)\u001b[0;34m()\u001b[0m\n\u001b[1;32m    623\u001b[0m       \u001b[0;34m:\u001b[0m\u001b[0;32mclass\u001b[0m\u001b[0;34m:\u001b[0m\u001b[0;34m`\u001b[0m\u001b[0mMatrixArgs\u001b[0m\u001b[0;34m`\u001b[0m\u001b[0;34m,\u001b[0m \u001b[0msee\u001b[0m \u001b[0;34m:\u001b[0m\u001b[0mtrac\u001b[0m\u001b[0;34m:\u001b[0m\u001b[0;34m`\u001b[0m\u001b[0;36m24742\u001b[0m\u001b[0;34m`\u001b[0m\u001b[0;34m\u001b[0m\u001b[0m\n\u001b[1;32m    624\u001b[0m     \"\"\"\n\u001b[0;32m--> 625\u001b[0;31m     \u001b[0;32mreturn\u001b[0m \u001b[0mMatrixArgs\u001b[0m\u001b[0;34m(\u001b[0m\u001b[0;34m*\u001b[0m\u001b[0margs\u001b[0m\u001b[0;34m,\u001b[0m \u001b[0;34m**\u001b[0m\u001b[0mkwds\u001b[0m\u001b[0;34m)\u001b[0m\u001b[0;34m.\u001b[0m\u001b[0mmatrix\u001b[0m\u001b[0;34m(\u001b[0m\u001b[0;34m)\u001b[0m\u001b[0;34m\u001b[0m\u001b[0m\n\u001b[0m\u001b[1;32m    626\u001b[0m \u001b[0;34m\u001b[0m\u001b[0m\n\u001b[1;32m    627\u001b[0m \u001b[0;34m\u001b[0m\u001b[0m\n",
      "\u001b[0;32m/usr/local/install/sage-8.3/local/lib/python2.7/site-packages/sage/matrix/args.pyx\u001b[0m in \u001b[0;36msage.matrix.args.MatrixArgs.matrix (build/cythonized/sage/matrix/args.c:8080)\u001b[0;34m()\u001b[0m\n\u001b[1;32m    656\u001b[0m                     \u001b[0;32mbreak\u001b[0m\u001b[0;34m\u001b[0m\u001b[0m\n\u001b[1;32m    657\u001b[0m         \u001b[0;32melse\u001b[0m\u001b[0;34m:\u001b[0m\u001b[0;34m\u001b[0m\u001b[0m\n\u001b[0;32m--> 658\u001b[0;31m             \u001b[0mM\u001b[0m \u001b[0;34m=\u001b[0m \u001b[0mself\u001b[0m\u001b[0;34m.\u001b[0m\u001b[0mspace\u001b[0m\u001b[0;34m(\u001b[0m\u001b[0mself\u001b[0m\u001b[0;34m,\u001b[0m \u001b[0mcoerce\u001b[0m\u001b[0;34m=\u001b[0m\u001b[0mconvert\u001b[0m\u001b[0;34m)\u001b[0m\u001b[0;34m\u001b[0m\u001b[0m\n\u001b[0m\u001b[1;32m    659\u001b[0m \u001b[0;34m\u001b[0m\u001b[0m\n\u001b[1;32m    660\u001b[0m         \u001b[0;31m# Also store the matrix to support multiple calls of matrix()\u001b[0m\u001b[0;34m\u001b[0m\u001b[0;34m\u001b[0m\u001b[0m\n",
      "\u001b[0;32m/usr/local/install/sage-8.3/local/lib/python2.7/site-packages/sage/matrix/matrix_space.pyc\u001b[0m in \u001b[0;36m__call__\u001b[0;34m(self, entries, coerce, copy)\u001b[0m\n\u001b[1;32m    874\u001b[0m         \"\"\"\n\u001b[1;32m    875\u001b[0m         \u001b[0mMC\u001b[0m \u001b[0;34m=\u001b[0m \u001b[0mself\u001b[0m\u001b[0;34m.\u001b[0m\u001b[0m_matrix_class\u001b[0m\u001b[0;34m\u001b[0m\u001b[0m\n\u001b[0;32m--> 876\u001b[0;31m         \u001b[0;32mreturn\u001b[0m \u001b[0mMC\u001b[0m\u001b[0;34m(\u001b[0m\u001b[0mself\u001b[0m\u001b[0;34m,\u001b[0m \u001b[0mentries\u001b[0m\u001b[0;34m,\u001b[0m \u001b[0mcopy\u001b[0m\u001b[0;34m,\u001b[0m \u001b[0mcoerce\u001b[0m\u001b[0;34m)\u001b[0m\u001b[0;34m\u001b[0m\u001b[0m\n\u001b[0m\u001b[1;32m    877\u001b[0m \u001b[0;34m\u001b[0m\u001b[0m\n\u001b[1;32m    878\u001b[0m     \u001b[0;32mdef\u001b[0m \u001b[0mchange_ring\u001b[0m\u001b[0;34m(\u001b[0m\u001b[0mself\u001b[0m\u001b[0;34m,\u001b[0m \u001b[0mR\u001b[0m\u001b[0;34m)\u001b[0m\u001b[0;34m:\u001b[0m\u001b[0;34m\u001b[0m\u001b[0m\n",
      "\u001b[0;32m/usr/local/install/sage-8.3/local/lib/python2.7/site-packages/sage/matrix/matrix_integer_dense.pyx\u001b[0m in \u001b[0;36msage.matrix.matrix_integer_dense.Matrix_integer_dense.__init__ (build/cythonized/sage/matrix/matrix_integer_dense.c:6972)\u001b[0;34m()\u001b[0m\n\u001b[1;32m    302\u001b[0m         \u001b[0mma\u001b[0m \u001b[0;34m=\u001b[0m \u001b[0mMatrixArgs_init\u001b[0m\u001b[0;34m(\u001b[0m\u001b[0mparent\u001b[0m\u001b[0;34m,\u001b[0m \u001b[0mentries\u001b[0m\u001b[0;34m)\u001b[0m\u001b[0;34m\u001b[0m\u001b[0m\n\u001b[1;32m    303\u001b[0m         \u001b[0mcdef\u001b[0m \u001b[0mInteger\u001b[0m \u001b[0mz\u001b[0m\u001b[0;34m\u001b[0m\u001b[0m\n\u001b[0;32m--> 304\u001b[0;31m         \u001b[0;32mfor\u001b[0m \u001b[0mt\u001b[0m \u001b[0;32min\u001b[0m \u001b[0mma\u001b[0m\u001b[0;34m.\u001b[0m\u001b[0miter\u001b[0m\u001b[0;34m(\u001b[0m\u001b[0mcoerce\u001b[0m\u001b[0;34m,\u001b[0m \u001b[0mTrue\u001b[0m\u001b[0;34m)\u001b[0m\u001b[0;34m:\u001b[0m\u001b[0;34m\u001b[0m\u001b[0m\n\u001b[0m\u001b[1;32m    305\u001b[0m             \u001b[0mse\u001b[0m \u001b[0;34m=\u001b[0m \u001b[0;34m<\u001b[0m\u001b[0mSparseEntry\u001b[0m\u001b[0;34m>\u001b[0m\u001b[0mt\u001b[0m\u001b[0;34m\u001b[0m\u001b[0m\n\u001b[1;32m    306\u001b[0m             \u001b[0mz\u001b[0m \u001b[0;34m=\u001b[0m \u001b[0;34m<\u001b[0m\u001b[0mInteger\u001b[0m\u001b[0;34m>\u001b[0m\u001b[0mse\u001b[0m\u001b[0;34m.\u001b[0m\u001b[0mentry\u001b[0m\u001b[0;34m\u001b[0m\u001b[0m\n",
      "\u001b[0;32m/usr/local/install/sage-8.3/local/lib/python2.7/site-packages/sage/matrix/args.pyx\u001b[0m in \u001b[0;36miter (build/cythonized/sage/matrix/args.c:6665)\u001b[0;34m()\u001b[0m\n\u001b[1;32m    520\u001b[0m                 \u001b[0;32mfor\u001b[0m \u001b[0mj\u001b[0m \u001b[0;32min\u001b[0m \u001b[0mrange\u001b[0m\u001b[0;34m(\u001b[0m\u001b[0mself\u001b[0m\u001b[0;34m.\u001b[0m\u001b[0mncols\u001b[0m\u001b[0;34m)\u001b[0m\u001b[0;34m:\u001b[0m\u001b[0;34m\u001b[0m\u001b[0m\n\u001b[1;32m    521\u001b[0m                     \u001b[0msig_check\u001b[0m\u001b[0;34m(\u001b[0m\u001b[0;34m)\u001b[0m\u001b[0;34m\u001b[0m\u001b[0m\n\u001b[0;32m--> 522\u001b[0;31m                     \u001b[0mx\u001b[0m \u001b[0;34m=\u001b[0m \u001b[0mnext\u001b[0m\u001b[0;34m(\u001b[0m\u001b[0mit\u001b[0m\u001b[0;34m)\u001b[0m\u001b[0;34m\u001b[0m\u001b[0m\n\u001b[0m\u001b[1;32m    523\u001b[0m                     \u001b[0;32mif\u001b[0m \u001b[0mconvert\u001b[0m \u001b[0;32mand\u001b[0m \u001b[0mself\u001b[0m\u001b[0;34m.\u001b[0m\u001b[0mneed_to_convert\u001b[0m\u001b[0;34m(\u001b[0m\u001b[0mx\u001b[0m\u001b[0;34m)\u001b[0m\u001b[0;34m:\u001b[0m\u001b[0;34m\u001b[0m\u001b[0m\n\u001b[1;32m    524\u001b[0m                         \u001b[0mx\u001b[0m \u001b[0;34m=\u001b[0m \u001b[0mself\u001b[0m\u001b[0;34m.\u001b[0m\u001b[0mbase\u001b[0m\u001b[0;34m(\u001b[0m\u001b[0mx\u001b[0m\u001b[0;34m)\u001b[0m\u001b[0;34m\u001b[0m\u001b[0m\n",
      "\u001b[0;32m/usr/local/install/sage-8.3/local/lib/python2.7/site-packages/sage/misc/misc_c.pyx\u001b[0m in \u001b[0;36msage.misc.misc_c.sized_iter.__next__ (build/cythonized/sage/misc/misc_c.c:5891)\u001b[0;34m()\u001b[0m\n\u001b[1;32m    722\u001b[0m             \u001b[0mx\u001b[0m \u001b[0;34m=\u001b[0m \u001b[0mnext\u001b[0m\u001b[0;34m(\u001b[0m\u001b[0mself\u001b[0m\u001b[0;34m.\u001b[0m\u001b[0miterator\u001b[0m\u001b[0;34m)\u001b[0m\u001b[0;34m\u001b[0m\u001b[0m\n\u001b[1;32m    723\u001b[0m         \u001b[0;32mexcept\u001b[0m \u001b[0mStopIteration\u001b[0m\u001b[0;34m:\u001b[0m\u001b[0;34m\u001b[0m\u001b[0m\n\u001b[0;32m--> 724\u001b[0;31m             \u001b[0;32mraise\u001b[0m \u001b[0mValueError\u001b[0m\u001b[0;34m(\u001b[0m\u001b[0mf\u001b[0m\u001b[0;34m\"sequence too short (expected length {self.size}, got {self.index})\"\u001b[0m\u001b[0;34m)\u001b[0m\u001b[0;34m\u001b[0m\u001b[0m\n\u001b[0m\u001b[1;32m    725\u001b[0m         \u001b[0mself\u001b[0m\u001b[0;34m.\u001b[0m\u001b[0mindex\u001b[0m \u001b[0;34m+=\u001b[0m \u001b[0;36m1\u001b[0m\u001b[0;34m\u001b[0m\u001b[0m\n\u001b[1;32m    726\u001b[0m         \u001b[0mself\u001b[0m\u001b[0;34m.\u001b[0m\u001b[0mcheck\u001b[0m\u001b[0;34m(\u001b[0m\u001b[0;34m)\u001b[0m\u001b[0;34m\u001b[0m\u001b[0m\n",
      "\u001b[0;31mValueError\u001b[0m: sequence too short (expected length 6, got 0)"
     ]
    }
   ],
   "source": [
    "#Exo 7\n",
    "reset ()\n",
    "Tir1 = matrix(2,3,[])\n"
   ]
  },
  {
   "cell_type": "code",
   "execution_count": null,
   "metadata": {},
   "outputs": [],
   "source": [
    "#Examen jeudi 19 decembre dse 15h300 à 17h30 convoqué à 15h00 en salle machine objectif \n",
    "#Télécharger tout les tp pdf"
   ]
  }
 ],
 "metadata": {
  "kernelspec": {
   "display_name": "SageMath 8.3",
   "language": "",
   "name": "sagemath"
  },
  "language_info": {
   "codemirror_mode": {
    "name": "ipython",
    "version": 2
   },
   "file_extension": ".py",
   "mimetype": "text/x-python",
   "name": "python",
   "nbconvert_exporter": "python",
   "pygments_lexer": "ipython2",
   "version": "2.7.15"
  }
 },
 "nbformat": 4,
 "nbformat_minor": 2
}
