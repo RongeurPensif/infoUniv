{
 "cells": [
  {
   "cell_type": "code",
   "execution_count": 1,
   "metadata": {},
   "outputs": [],
   "source": [
    "#Exo1\n",
    "\n",
    "M=matrix([[-1,2,0],[-2,0,3],[-7,5,8]])\n",
    "M=matrix(3,3,[-1,2,3,-2,0,3,-7,5,8])"
   ]
  },
  {
   "cell_type": "code",
   "execution_count": 11,
   "metadata": {},
   "outputs": [
    {
     "name": "stdout",
     "output_type": "stream",
     "text": [
      " A+B=\n",
      "[ 7  4 13]\n",
      "[15 16 10]\n",
      "[ 6  9 10]\n",
      "\n",
      "B+A=\n",
      "[ 7  4 13]\n",
      "[15 16 10]\n",
      "[ 6  9 10]\n",
      "\n",
      "A-B=\n",
      "[ 1  0  1]\n",
      "[ 1  0  2]\n",
      "[-2 -7  0]\n",
      "\n",
      "B-A=\n",
      "[-1  0 -1]\n",
      "[-1  0 -2]\n",
      "[ 2  7  0]\n",
      "\n",
      "A*B=\n",
      "[ 54  80  67]\n",
      "[104 128 110]\n",
      "[ 33  52  41]\n",
      "\n",
      "B*A=\n",
      "[ 40  28  63]\n",
      "[100  82 117]\n",
      "[ 90  77 101]\n",
      "\n",
      "--------\n",
      "C+D=\n",
      "[ 7  4 13]\n",
      "[15 16 10]\n",
      "[ 6  9 10]\n",
      "\n",
      "D+C=\n",
      "[ 7  4 13]\n",
      "[15 16 10]\n",
      "[ 6  9 10]\n",
      "\n",
      "C-D=\n",
      "[ 1  0  1]\n",
      "[ 1  0  2]\n",
      "[-2 -7  0]\n",
      "\n",
      "D-C=\n",
      "[-1  0 -1]\n",
      "[-1  0 -2]\n",
      "[ 2  7  0]\n",
      "\n",
      "C*D=\n",
      "[ 54  80  67]\n",
      "[104 128 110]\n",
      "[ 33  52  41]\n",
      "\n",
      "D*C=\n",
      "[ 40  28  63]\n",
      "[100  82 117]\n",
      "[ 90  77 101]\n",
      "\n",
      "--------\n",
      "v*A=(26, 21, 34)\n",
      "v*B=(29, 42, 29)\n",
      "\n",
      "--------\n",
      "e1*B=(3, 2, 6)\n",
      "e2*B=(7, 8, 4)\n",
      "e3*B=(4, 8, 5)\n"
     ]
    }
   ],
   "source": [
    "from random import randint\n",
    "#exo2\n",
    "\n",
    "def genMatrice(x,y):\n",
    "    r=\"matrix({},{},[\".format(x,y)\n",
    "    for i in range (x*y):\n",
    "        r+= str ( randint(0,9) )\n",
    "        if i != x*y-1:\n",
    "            r+=\", \"\n",
    "    r+=\"])\"\n",
    "    return r\n",
    "\n",
    "A=matrix(3,3,[4, 2, 7, 8, 8, 6, 2, 1, 5])\n",
    "B=matrix(3,3,[3, 2, 6, 7, 8, 4, 4, 8, 5])\n",
    "print \"A+B=\\n{}\\n\\nB+A=\\n{}\\n\\nA-B=\\n{}\\n\\nB-A=\\n{}\\n\\nA*B=\\n{}\\n\\nB*A=\\n{}\".format(A+B, B+A, A-B, B-A, A*B, B*A)\n",
    "\n",
    "C=matrix(2,3,[5, 9, 2, 9, 4, 2])\n",
    "D=matrix(3,2,[0, 0, 2, 8, 2, 3])\n",
    "print \"\\n--------\\nC+D=\\n{}\\n\\nD+C=\\n{}\\n\\nC-D=\\n{}\\n\\nD-C=\\n{}\\n\\nC*D=\\n{}\\n\\nD*C=\\n{}\".format(A+B, B+A, A-B, B-A, A*B, B*A)\n",
    "\n",
    "v=vector([1,2,3])\n",
    "print \"\\n--------\\nv*A={}\\nv*B={}\".format(v*A, v*B)\n",
    "\n",
    "e1 = vector([1,0,0])\n",
    "e2 = vector([0,1,0])\n",
    "e3 = vector([0,0,1])\n",
    "print \"\\n--------\\ne1*B={}\\ne2*B={}\\ne3*B={}\".format(e1*B,e2*B,e3*B)"
   ]
  },
  {
   "cell_type": "code",
   "execution_count": 22,
   "metadata": {},
   "outputs": [
    {
     "name": "stdout",
     "output_type": "stream",
     "text": [
      "A(2,1)=8\n",
      "A(3,2)=5\n",
      "\n",
      "matrice identité 3x3 =\n",
      "[1 0 0]\n",
      "[0 1 0]\n",
      "[0 0 1]\n",
      "\n",
      "matrice 0 2x3=\n",
      "[0 0 0]\n",
      "[0 0 0]\n"
     ]
    }
   ],
   "source": [
    "#Exo4\n",
    "reset()\n",
    "A = matrix (3,3,[4, 2, 7, 8, 8, 6, 2, 1, 5])\n",
    "print \"A(2,1)={}\\nA(3,2)={}\".format(A[1,0], A[2,2])\n",
    "print \"\\nmatrice identité 3x3 =\\n{}\".format(identity_matrix(3))\n",
    "print \"\\nmatrice 0 2x3=\\n{}\".format(zero_matrix(2,3))"
   ]
  },
  {
   "cell_type": "code",
   "execution_count": 28,
   "metadata": {},
   "outputs": [
    {
     "name": "stdout",
     "output_type": "stream",
     "text": [
      "A=\n",
      "[4 2 7]\n",
      "[8 8 6]\n",
      "[2 1 5]\n",
      "\n",
      "Transposé de A=\n",
      "[4 8 2]\n",
      "[2 8 1]\n",
      "[7 6 5]\n",
      "\n",
      "Determinant de A =\n",
      "24\n",
      "\n",
      "Rang de A=\n",
      "3\n",
      "\n",
      "Inverse de A=\n",
      "[17/12  -1/8 -11/6]\n",
      "[ -7/6   1/4   4/3]\n",
      "[ -1/3     0   2/3]\n"
     ]
    }
   ],
   "source": [
    "#Exo5\n",
    "reset()\n",
    "A = matrix (3,3,[4, 2, 7, 8, 8, 6, 2, 1, 5])\n",
    "print \"A=\\n{}\\n\\nTransposée de A=\\n{}\\n\\nDeterminant de A =\\n{}\\n\\nRang de A=\\n{}\\n\\nInverse de A=\\n{}\".format(A,A.transpose(), A.det(), A.rank(), A^-1)"
   ]
  },
  {
   "cell_type": "code",
   "execution_count": 39,
   "metadata": {},
   "outputs": [
    {
     "name": "stdout",
     "output_type": "stream",
     "text": [
      "(-9/5, 47/10, 1/10)\n",
      "(4/3, 5/3, 0)\n"
     ]
    }
   ],
   "source": [
    "#Exo 6\n",
    "reset()\n",
    "A = matrix(3,3,[2,3,-5,-1,0,2,1,1,1])\n",
    "b = vector([10,2,3]) \n",
    "print A.solve_right(b)\n",
    "\n",
    "B = matrix(3,3,[2,2,2,-1,2,0,1,1,1])\n",
    "b = vector([6,2,3])\n",
    "print B\\b\n",
    "\n",
    "C = matrix(3,3,[2,2,2,-1,2,0,1,1,1])\n",
    "b = vector([10,2,3])\n",
    "#print C.solve_right(b)\n",
    "    #Pas de solution pour C"
   ]
  },
  {
   "cell_type": "code",
   "execution_count": null,
   "metadata": {},
   "outputs": [],
   "source": [
    "#Exo 7\n",
    "reset ()\n",
    "Tir1 = matrix(2,3,[])\n"
   ]
  },
  {
   "cell_type": "code",
   "execution_count": null,
   "metadata": {},
   "outputs": [],
   "source": [
    "#Examen jeudi 19 decembre dse 15h300 à 17h30 convoqué à 15h00 en salle machine objectif \n",
    "#Télécharger tout les tp pdf"
   ]
  }
 ],
 "metadata": {
  "kernelspec": {
   "display_name": "SageMath 8.3",
   "language": "",
   "name": "sagemath"
  },
  "language_info": {
   "codemirror_mode": {
    "name": "ipython",
    "version": 2
   },
   "file_extension": ".py",
   "mimetype": "text/x-python",
   "name": "python",
   "nbconvert_exporter": "python",
   "pygments_lexer": "ipython2",
   "version": "2.7.15"
  }
 },
 "nbformat": 4,
 "nbformat_minor": 2
}
