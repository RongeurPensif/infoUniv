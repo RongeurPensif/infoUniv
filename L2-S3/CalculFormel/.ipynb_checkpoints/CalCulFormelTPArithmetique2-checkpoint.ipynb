{
 "cells": [
  {
   "cell_type": "code",
   "execution_count": 2,
   "metadata": {},
   "outputs": [
    {
     "name": "stdout",
     "output_type": "stream",
     "text": [
      "x |--> 2\n",
      "x |--> x^2 - 2*x + 1\n",
      "(x - 1)^2\n"
     ]
    }
   ],
   "source": [
    "#Exo1\n",
    "p(x)=x*(x-2)+1\n",
    "print p.degree(x)\n",
    "print expand(p)\n",
    "print factor(p)\n"
   ]
  },
  {
   "cell_type": "code",
   "execution_count": 80,
   "metadata": {},
   "outputs": [
    {
     "name": "stdout",
     "output_type": "stream",
     "text": [
      "x |--> 8\n",
      "x |--> 8 \n",
      "\n",
      "x |--> 3\n",
      "x |--> 4 \n",
      "\n",
      "x |--> 4 \n",
      "\n",
      "[(-1, 4)]\n",
      "[(-sqrt(1/2*sqrt(13) + 3/2), 1), (sqrt(1/2*sqrt(13) + 3/2), 1), (-sqrt(-1/2*sqrt(13) + 3/2), 1), (sqrt(-1/2*sqrt(13) + 3/2), 1)] \n",
      "\n",
      "-1.81735402102397\n",
      "1.81735402102397\n",
      "-3.36931270677063e-17 - 0.550250522700337*I\n",
      "3.36931270677063e-17 + 0.550250522700337*I\n"
     ]
    }
   ],
   "source": [
    "#Exo2\n",
    "reset()\n",
    "\n",
    "p(x)=x**4-3*x**2-1\n",
    "q(x)=(x+1)**4\n",
    "d(x)=expand(p(x)-q(x))\n",
    "\n",
    "print p.degree(x) + q.degree(x)\n",
    "print (p*q).degree(x),'\\n'\n",
    "#deg(PQ)=deg(P)+deg(Q)\n",
    "print d.degree(x)\n",
    "print(max( p.degree(x) , q.degree(x))), '\\n'\n",
    "# deg(P-Q) != max(deg(P),deg(G))\n",
    "\n",
    "Q(x)=expand(q(x))\n",
    "\n",
    "print (expand(q).coefficient(x**3)), '\\n'\n",
    "#le coefficient devant X**3 est 4\n",
    "\n",
    "print Q.roots()\n",
    "print p.roots(), '\\n'\n",
    "\n",
    "print p.roots()[0][0].n()\n",
    "print p.roots()[1][0].n()\n",
    "print p.roots()[2][0].n()\n",
    "print p.roots()[3][0].n()"
   ]
  },
  {
   "cell_type": "code",
   "execution_count": 99,
   "metadata": {},
   "outputs": [
    {
     "name": "stdout",
     "output_type": "stream",
     "text": [
      "[(-1.81735402102397, 1), (1.81735402102397, 1), (-0.550250522700337*I, 1), (0.550250522700337*I, 1)]\n",
      "x^2 - 2.00000000000000*x , 2.00000000000000*x - 1.00000000000000\n",
      "x^4 - 3.00000000000000*x^2 - 1.00000000000000\n"
     ]
    }
   ],
   "source": [
    "#Exo3\n",
    "reset()\n",
    "R=PolynomialRing(QQ,'x')\n",
    "x=R.gen()\n",
    "P2=x**4-3*x**2-1\n",
    "print P2.roots()\n",
    "\n",
    "#Exo4\n",
    "Q = P2(x)//(x+1)^2\n",
    "r = P2(x)%(x+1)^2\n",
    "print Q,\",\",r\n",
    "print Q*(x+1)^2+r"
   ]
  },
  {
   "cell_type": "code",
   "execution_count": 101,
   "metadata": {},
   "outputs": [
    {
     "name": "stdout",
     "output_type": "stream",
     "text": [
      "x |--> x^2 + x + 2\n",
      "x |--> (x + 1)^2\n"
     ]
    }
   ],
   "source": [
    "#Exo5\n",
    "reset()\n",
    "R=PolynomialRing(GF(2),'x')\n",
    "x=R.gen()\n",
    "P3(x)=x+1\n",
    "print P3 + x^2 + 1\n",
    "print P3^2"
   ]
  }
 ],
 "metadata": {
  "kernelspec": {
   "display_name": "SageMath 8.3",
   "language": "",
   "name": "sagemath"
  },
  "language_info": {
   "codemirror_mode": {
    "name": "ipython",
    "version": 2
   },
   "file_extension": ".py",
   "mimetype": "text/x-python",
   "name": "python",
   "nbconvert_exporter": "python",
   "pygments_lexer": "ipython2",
   "version": "2.7.15"
  }
 },
 "nbformat": 4,
 "nbformat_minor": 2
}
