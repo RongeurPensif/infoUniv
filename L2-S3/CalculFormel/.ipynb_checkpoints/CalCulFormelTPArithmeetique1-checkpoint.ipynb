{
 "cells": [
  {
   "cell_type": "code",
   "execution_count": 6,
   "metadata": {},
   "outputs": [
    {
     "name": "stdout",
     "output_type": "stream",
     "text": [
      "0b11111\n",
      "1f\n",
      "20\n",
      "667215\n"
     ]
    }
   ],
   "source": [
    "#Exo1\n",
    "print bin(31)\n",
    "print hex(31)\n",
    "print Integer('0b10100')\n",
    "print Integer('0xA2E4F')"
   ]
  },
  {
   "cell_type": "code",
   "execution_count": 13,
   "metadata": {},
   "outputs": [
    {
     "name": "stdout",
     "output_type": "stream",
     "text": [
      "3.14 11.001001000100\n",
      "3.14 11.001001000100\n"
     ]
    }
   ],
   "source": [
    "#Exo2\n",
    "x = numerical_approx(pi, digits=3)\n",
    "var('y')\n",
    "y = numerical_approx(3.14, digits=3)\n",
    "print x, x.str(2)\n",
    "print y, x.str(2)"
   ]
  },
  {
   "cell_type": "code",
   "execution_count": 5,
   "metadata": {},
   "outputs": [
    {
     "name": "stdout",
     "output_type": "stream",
     "text": [
      "21\n",
      "63\n",
      "112\n",
      "50\n"
     ]
    }
   ],
   "source": [
    "#Exo3\n",
    "print (23).str(11)\n",
    "print (45).str(7)\n",
    "print (32).str(5)\n",
    "print (65).str(13)"
   ]
  },
  {
   "cell_type": "code",
   "execution_count": 7,
   "metadata": {},
   "outputs": [
    {
     "name": "stdout",
     "output_type": "stream",
     "text": [
      "4\n",
      "4\n",
      "1\n"
     ]
    }
   ],
   "source": [
    "#Exo4\n",
    "var('a', 'b')\n",
    "a=5\n",
    "print (2*a)%6\n",
    "b = mod(5,6)\n",
    "print 2*b\n",
    "print b+8\n",
    "print 1/B\n",
    "print b.base_ring()"
   ]
  },
  {
   "cell_type": "code",
   "execution_count": 18,
   "metadata": {},
   "outputs": [
    {
     "name": "stdout",
     "output_type": "stream",
     "text": [
      "1\n",
      "5 loops, best of 3: 103 ms per loop\n",
      "1\n",
      "25 loops, best of 3: 10.1 ms per loop\n"
     ]
    }
   ],
   "source": [
    "#Exo5\n",
    "reset()\n",
    "var('a', 'n')\n",
    "n = 3**100000\n",
    "a = n - 1\n",
    "print mod(a**100,n)\n",
    "timeit('mod(a**100,n)')\n",
    "b = mod(n-1,n)\n",
    "print b**100\n",
    "timeit('b**100')"
   ]
  },
  {
   "cell_type": "code",
   "execution_count": 37,
   "metadata": {},
   "outputs": [
    {
     "name": "stdout",
     "output_type": "stream",
     "text": [
      "n=2, True\n",
      "625 loops, best of 3: 763 ns per loop\n",
      "625 loops, best of 3: 1.17 µs per loop\n",
      "n=4, False\n",
      "625 loops, best of 3: 565 ns per loop\n",
      "625 loops, best of 3: 1.02 µs per loop\n",
      "n=312, False\n",
      "625 loops, best of 3: 371 ns per loop\n",
      "625 loops, best of 3: 666 ns per loop\n",
      "n=170141183460469231731687303715884105728, False\n",
      "625 loops, best of 3: 2.26 µs per loop\n",
      "625 loops, best of 3: 614 ns per loop\n"
     ]
    }
   ],
   "source": [
    "#Exo6\n",
    "var('n')\n",
    "for i in (2,4,312, 2**127) :\n",
    "    print \"n={}, {}\".format( i, is_prime ( i ) )\n",
    "    timeit('is_prime(i)')\n",
    "    timeit('is_pseudoprime(i)')\n"
   ]
  },
  {
   "cell_type": "code",
   "execution_count": 4,
   "metadata": {},
   "outputs": [
    {
     "name": "stdout",
     "output_type": "stream",
     "text": [
      "1\n"
     ]
    }
   ],
   "source": [
    "#Exo7(*)\n",
    "\n",
    "'''var('a,b')\n",
    "a = 77; b = 5\n",
    "if ( is_prime(a) or is_prime(b) ) :\n",
    "    u = 1 / mod ( a, b )\n",
    "    v = 1 / mod ( b, a )\n",
    "print(\"\\na = {}\\nb = {}\\nu= {}\\nv= {}\".format(a,b,u,v))'''\n",
    "def EuclideExt ( a, b ) :\n",
    "    if a%b == 0 :\n",
    "        return b\n",
    "    else :\n",
    "        return EuclideExt ( b, a%b )\n",
    "print (EuclideExt(77,5))"
   ]
  },
  {
   "cell_type": "code",
   "execution_count": 7,
   "metadata": {},
   "outputs": [
    {
     "name": "stdout",
     "output_type": "stream",
     "text": [
      "pgcd(77,5)=1\n",
      "=77*-2+5*31\n"
     ]
    }
   ],
   "source": [
    "#Exo8\n",
    "xgcd?\n",
    "var(\"x,y\")\n",
    "x = 77 \n",
    "y = 5\n",
    "xgcd(x,y)\n",
    "print(\"pgcd({},{})={}\\n={}*{}+{}*{}\\n\".format(x,y,xgcd(x,y)[0],x,xgcd(x,y)[1],y,xgcd(x,y)[2]))"
   ]
  },
  {
   "cell_type": "code",
   "execution_count": null,
   "metadata": {},
   "outputs": [],
   "source": [
    "#Exo9\n",
    "reset()\n",
    "a = 2\n",
    "b = 2\n",
    "m = 7\n",
    "n = 8\n",
    "x0 = crt ( a, b, m, n )\n",
    "print x0\n",
    "print ( x0 % m, xO % n )\n",
    "k0 = ( b - a ) / m % n\n",
    "print ( k0, a + k0 * m )"
   ]
  },
  {
   "cell_type": "code",
   "execution_count": null,
   "metadata": {},
   "outputs": [],
   "source": [
    "#Exo10\n",
    "reset()\n",
    "n=53\n",
    "a=mod(14,n)\n",
    "g=2\n",
    "x=a.log(g)\n",
    "print x\n",
    "print g%n"
   ]
  },
  {
   "cell_type": "code",
   "execution_count": 28,
   "metadata": {},
   "outputs": [
    {
     "name": "stdout",
     "output_type": "stream",
     "text": [
      "[20, 13, 12, 14, 19]\n",
      "a\n",
      "b\n",
      "c\n",
      "d\n",
      "e\n",
      "f\n",
      "g\n",
      "h\n",
      "i\n",
      "j\n",
      "k\n",
      "l\n",
      "m\n",
      "n\n",
      "o\n",
      "p\n",
      "q\n",
      "r\n",
      "s\n",
      "t\n",
      "u\n",
      "v\n",
      "w\n",
      "x\n",
      "y\n",
      "z\n"
     ]
    }
   ],
   "source": [
    "#Exo11\n",
    "mot =\"unmot\"\n",
    "r = []\n",
    "for i in list ( mot ) :\n",
    "    r.append ( ord ( i ) - 97 )\n",
    "print ( r )\n",
    "\n",
    "for i in range (26):\n",
    "    print chr ( i + 97 )\n",
    "L = [ ord ( j ) - 97 for j in L0 ]"
   ]
  },
  {
   "cell_type": "code",
   "execution_count": 26,
   "metadata": {},
   "outputs": [
    {
     "data": {
      "text/plain": [
       "'abcfgk'"
      ]
     },
     "execution_count": 26,
     "metadata": {},
     "output_type": "execute_result"
    }
   ],
   "source": [
    "L = \"abcfgk\".split()\n",
    "''.join(L)"
   ]
  },
  {
   "cell_type": "code",
   "execution_count": null,
   "metadata": {},
   "outputs": [],
   "source": []
  },
  {
   "cell_type": "code",
   "execution_count": null,
   "metadata": {},
   "outputs": [],
   "source": []
  },
  {
   "cell_type": "code",
   "execution_count": null,
   "metadata": {},
   "outputs": [],
   "source": []
  }
 ],
 "metadata": {
  "kernelspec": {
   "display_name": "SageMath 8.3",
   "language": "",
   "name": "sagemath"
  },
  "language_info": {
   "codemirror_mode": {
    "name": "ipython",
    "version": 2
   },
   "file_extension": ".py",
   "mimetype": "text/x-python",
   "name": "python",
   "nbconvert_exporter": "python",
   "pygments_lexer": "ipython2",
   "version": "2.7.15"
  }
 },
 "nbformat": 4,
 "nbformat_minor": 2
}
